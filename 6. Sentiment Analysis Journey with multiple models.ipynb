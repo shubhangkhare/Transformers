{
  "nbformat": 4,
  "nbformat_minor": 0,
  "metadata": {
    "colab": {
      "provenance": [],
      "authorship_tag": "ABX9TyNcTFpzq0y22Ah8QyFmsBv+",
      "include_colab_link": true
    },
    "kernelspec": {
      "name": "python3",
      "display_name": "Python 3"
    },
    "language_info": {
      "name": "python"
    },
    "widgets": {
      "application/vnd.jupyter.widget-state+json": {
        "6e68c8ba26c243c299ca66bcaf437bf2": {
          "model_module": "@jupyter-widgets/controls",
          "model_name": "HBoxModel",
          "model_module_version": "1.5.0",
          "state": {
            "_dom_classes": [],
            "_model_module": "@jupyter-widgets/controls",
            "_model_module_version": "1.5.0",
            "_model_name": "HBoxModel",
            "_view_count": null,
            "_view_module": "@jupyter-widgets/controls",
            "_view_module_version": "1.5.0",
            "_view_name": "HBoxView",
            "box_style": "",
            "children": [
              "IPY_MODEL_405814e2907044eb9f5c149a6592fca5",
              "IPY_MODEL_6fa2d6291abf497388aceec4e328aa71",
              "IPY_MODEL_5e554012cec1493fa5a54cd19d62b705"
            ],
            "layout": "IPY_MODEL_e2f4bcdac0394cd4b72fd9f389ea97e7"
          }
        },
        "405814e2907044eb9f5c149a6592fca5": {
          "model_module": "@jupyter-widgets/controls",
          "model_name": "HTMLModel",
          "model_module_version": "1.5.0",
          "state": {
            "_dom_classes": [],
            "_model_module": "@jupyter-widgets/controls",
            "_model_module_version": "1.5.0",
            "_model_name": "HTMLModel",
            "_view_count": null,
            "_view_module": "@jupyter-widgets/controls",
            "_view_module_version": "1.5.0",
            "_view_name": "HTMLView",
            "description": "",
            "description_tooltip": null,
            "layout": "IPY_MODEL_068eed700ea04f699120c2b962bffa05",
            "placeholder": "​",
            "style": "IPY_MODEL_02f2a8ae88704defa99752cf6d91369f",
            "value": "Downloading (…)lve/main/config.json: 100%"
          }
        },
        "6fa2d6291abf497388aceec4e328aa71": {
          "model_module": "@jupyter-widgets/controls",
          "model_name": "FloatProgressModel",
          "model_module_version": "1.5.0",
          "state": {
            "_dom_classes": [],
            "_model_module": "@jupyter-widgets/controls",
            "_model_module_version": "1.5.0",
            "_model_name": "FloatProgressModel",
            "_view_count": null,
            "_view_module": "@jupyter-widgets/controls",
            "_view_module_version": "1.5.0",
            "_view_name": "ProgressView",
            "bar_style": "success",
            "description": "",
            "description_tooltip": null,
            "layout": "IPY_MODEL_71894ad897114a309a003dec7c70a047",
            "max": 758,
            "min": 0,
            "orientation": "horizontal",
            "style": "IPY_MODEL_8a412399cde14c7d9e9450241e3dfa2b",
            "value": 758
          }
        },
        "5e554012cec1493fa5a54cd19d62b705": {
          "model_module": "@jupyter-widgets/controls",
          "model_name": "HTMLModel",
          "model_module_version": "1.5.0",
          "state": {
            "_dom_classes": [],
            "_model_module": "@jupyter-widgets/controls",
            "_model_module_version": "1.5.0",
            "_model_name": "HTMLModel",
            "_view_count": null,
            "_view_module": "@jupyter-widgets/controls",
            "_view_module_version": "1.5.0",
            "_view_name": "HTMLView",
            "description": "",
            "description_tooltip": null,
            "layout": "IPY_MODEL_e809ec7ad1ce45e3bae5014d3c1de6bb",
            "placeholder": "​",
            "style": "IPY_MODEL_6b20cda2eafc4e47bf3c352ca914884b",
            "value": " 758/758 [00:00&lt;00:00, 12.7kB/s]"
          }
        },
        "e2f4bcdac0394cd4b72fd9f389ea97e7": {
          "model_module": "@jupyter-widgets/base",
          "model_name": "LayoutModel",
          "model_module_version": "1.2.0",
          "state": {
            "_model_module": "@jupyter-widgets/base",
            "_model_module_version": "1.2.0",
            "_model_name": "LayoutModel",
            "_view_count": null,
            "_view_module": "@jupyter-widgets/base",
            "_view_module_version": "1.2.0",
            "_view_name": "LayoutView",
            "align_content": null,
            "align_items": null,
            "align_self": null,
            "border": null,
            "bottom": null,
            "display": null,
            "flex": null,
            "flex_flow": null,
            "grid_area": null,
            "grid_auto_columns": null,
            "grid_auto_flow": null,
            "grid_auto_rows": null,
            "grid_column": null,
            "grid_gap": null,
            "grid_row": null,
            "grid_template_areas": null,
            "grid_template_columns": null,
            "grid_template_rows": null,
            "height": null,
            "justify_content": null,
            "justify_items": null,
            "left": null,
            "margin": null,
            "max_height": null,
            "max_width": null,
            "min_height": null,
            "min_width": null,
            "object_fit": null,
            "object_position": null,
            "order": null,
            "overflow": null,
            "overflow_x": null,
            "overflow_y": null,
            "padding": null,
            "right": null,
            "top": null,
            "visibility": null,
            "width": null
          }
        },
        "068eed700ea04f699120c2b962bffa05": {
          "model_module": "@jupyter-widgets/base",
          "model_name": "LayoutModel",
          "model_module_version": "1.2.0",
          "state": {
            "_model_module": "@jupyter-widgets/base",
            "_model_module_version": "1.2.0",
            "_model_name": "LayoutModel",
            "_view_count": null,
            "_view_module": "@jupyter-widgets/base",
            "_view_module_version": "1.2.0",
            "_view_name": "LayoutView",
            "align_content": null,
            "align_items": null,
            "align_self": null,
            "border": null,
            "bottom": null,
            "display": null,
            "flex": null,
            "flex_flow": null,
            "grid_area": null,
            "grid_auto_columns": null,
            "grid_auto_flow": null,
            "grid_auto_rows": null,
            "grid_column": null,
            "grid_gap": null,
            "grid_row": null,
            "grid_template_areas": null,
            "grid_template_columns": null,
            "grid_template_rows": null,
            "height": null,
            "justify_content": null,
            "justify_items": null,
            "left": null,
            "margin": null,
            "max_height": null,
            "max_width": null,
            "min_height": null,
            "min_width": null,
            "object_fit": null,
            "object_position": null,
            "order": null,
            "overflow": null,
            "overflow_x": null,
            "overflow_y": null,
            "padding": null,
            "right": null,
            "top": null,
            "visibility": null,
            "width": null
          }
        },
        "02f2a8ae88704defa99752cf6d91369f": {
          "model_module": "@jupyter-widgets/controls",
          "model_name": "DescriptionStyleModel",
          "model_module_version": "1.5.0",
          "state": {
            "_model_module": "@jupyter-widgets/controls",
            "_model_module_version": "1.5.0",
            "_model_name": "DescriptionStyleModel",
            "_view_count": null,
            "_view_module": "@jupyter-widgets/base",
            "_view_module_version": "1.2.0",
            "_view_name": "StyleView",
            "description_width": ""
          }
        },
        "71894ad897114a309a003dec7c70a047": {
          "model_module": "@jupyter-widgets/base",
          "model_name": "LayoutModel",
          "model_module_version": "1.2.0",
          "state": {
            "_model_module": "@jupyter-widgets/base",
            "_model_module_version": "1.2.0",
            "_model_name": "LayoutModel",
            "_view_count": null,
            "_view_module": "@jupyter-widgets/base",
            "_view_module_version": "1.2.0",
            "_view_name": "LayoutView",
            "align_content": null,
            "align_items": null,
            "align_self": null,
            "border": null,
            "bottom": null,
            "display": null,
            "flex": null,
            "flex_flow": null,
            "grid_area": null,
            "grid_auto_columns": null,
            "grid_auto_flow": null,
            "grid_auto_rows": null,
            "grid_column": null,
            "grid_gap": null,
            "grid_row": null,
            "grid_template_areas": null,
            "grid_template_columns": null,
            "grid_template_rows": null,
            "height": null,
            "justify_content": null,
            "justify_items": null,
            "left": null,
            "margin": null,
            "max_height": null,
            "max_width": null,
            "min_height": null,
            "min_width": null,
            "object_fit": null,
            "object_position": null,
            "order": null,
            "overflow": null,
            "overflow_x": null,
            "overflow_y": null,
            "padding": null,
            "right": null,
            "top": null,
            "visibility": null,
            "width": null
          }
        },
        "8a412399cde14c7d9e9450241e3dfa2b": {
          "model_module": "@jupyter-widgets/controls",
          "model_name": "ProgressStyleModel",
          "model_module_version": "1.5.0",
          "state": {
            "_model_module": "@jupyter-widgets/controls",
            "_model_module_version": "1.5.0",
            "_model_name": "ProgressStyleModel",
            "_view_count": null,
            "_view_module": "@jupyter-widgets/base",
            "_view_module_version": "1.2.0",
            "_view_name": "StyleView",
            "bar_color": null,
            "description_width": ""
          }
        },
        "e809ec7ad1ce45e3bae5014d3c1de6bb": {
          "model_module": "@jupyter-widgets/base",
          "model_name": "LayoutModel",
          "model_module_version": "1.2.0",
          "state": {
            "_model_module": "@jupyter-widgets/base",
            "_model_module_version": "1.2.0",
            "_model_name": "LayoutModel",
            "_view_count": null,
            "_view_module": "@jupyter-widgets/base",
            "_view_module_version": "1.2.0",
            "_view_name": "LayoutView",
            "align_content": null,
            "align_items": null,
            "align_self": null,
            "border": null,
            "bottom": null,
            "display": null,
            "flex": null,
            "flex_flow": null,
            "grid_area": null,
            "grid_auto_columns": null,
            "grid_auto_flow": null,
            "grid_auto_rows": null,
            "grid_column": null,
            "grid_gap": null,
            "grid_row": null,
            "grid_template_areas": null,
            "grid_template_columns": null,
            "grid_template_rows": null,
            "height": null,
            "justify_content": null,
            "justify_items": null,
            "left": null,
            "margin": null,
            "max_height": null,
            "max_width": null,
            "min_height": null,
            "min_width": null,
            "object_fit": null,
            "object_position": null,
            "order": null,
            "overflow": null,
            "overflow_x": null,
            "overflow_y": null,
            "padding": null,
            "right": null,
            "top": null,
            "visibility": null,
            "width": null
          }
        },
        "6b20cda2eafc4e47bf3c352ca914884b": {
          "model_module": "@jupyter-widgets/controls",
          "model_name": "DescriptionStyleModel",
          "model_module_version": "1.5.0",
          "state": {
            "_model_module": "@jupyter-widgets/controls",
            "_model_module_version": "1.5.0",
            "_model_name": "DescriptionStyleModel",
            "_view_count": null,
            "_view_module": "@jupyter-widgets/base",
            "_view_module_version": "1.2.0",
            "_view_name": "StyleView",
            "description_width": ""
          }
        },
        "b0b9272fe93944e8974ddc0718661b77": {
          "model_module": "@jupyter-widgets/controls",
          "model_name": "HBoxModel",
          "model_module_version": "1.5.0",
          "state": {
            "_dom_classes": [],
            "_model_module": "@jupyter-widgets/controls",
            "_model_module_version": "1.5.0",
            "_model_name": "HBoxModel",
            "_view_count": null,
            "_view_module": "@jupyter-widgets/controls",
            "_view_module_version": "1.5.0",
            "_view_name": "HBoxView",
            "box_style": "",
            "children": [
              "IPY_MODEL_9a8295dee82b4c4b8007026da652aba6",
              "IPY_MODEL_89029e3be6d54dedaf0c8f6fb586f89f",
              "IPY_MODEL_4719950a5aed4218b54352674c7e190b"
            ],
            "layout": "IPY_MODEL_15a385cdd0f54ecaa5d5f524a86c5f57"
          }
        },
        "9a8295dee82b4c4b8007026da652aba6": {
          "model_module": "@jupyter-widgets/controls",
          "model_name": "HTMLModel",
          "model_module_version": "1.5.0",
          "state": {
            "_dom_classes": [],
            "_model_module": "@jupyter-widgets/controls",
            "_model_module_version": "1.5.0",
            "_model_name": "HTMLModel",
            "_view_count": null,
            "_view_module": "@jupyter-widgets/controls",
            "_view_module_version": "1.5.0",
            "_view_name": "HTMLView",
            "description": "",
            "description_tooltip": null,
            "layout": "IPY_MODEL_a936b3d86a5f4abe98922af115981e7b",
            "placeholder": "​",
            "style": "IPY_MODEL_8ef716a132e34ef5ad38ea51a46a0fbf",
            "value": "Downloading pytorch_model.bin: 100%"
          }
        },
        "89029e3be6d54dedaf0c8f6fb586f89f": {
          "model_module": "@jupyter-widgets/controls",
          "model_name": "FloatProgressModel",
          "model_module_version": "1.5.0",
          "state": {
            "_dom_classes": [],
            "_model_module": "@jupyter-widgets/controls",
            "_model_module_version": "1.5.0",
            "_model_name": "FloatProgressModel",
            "_view_count": null,
            "_view_module": "@jupyter-widgets/controls",
            "_view_module_version": "1.5.0",
            "_view_name": "ProgressView",
            "bar_style": "success",
            "description": "",
            "description_tooltip": null,
            "layout": "IPY_MODEL_d0e6047f035b4f928f4fa7613a1b24ea",
            "max": 437992753,
            "min": 0,
            "orientation": "horizontal",
            "style": "IPY_MODEL_cf2d9844295240899d0268ae935ed940",
            "value": 437992753
          }
        },
        "4719950a5aed4218b54352674c7e190b": {
          "model_module": "@jupyter-widgets/controls",
          "model_name": "HTMLModel",
          "model_module_version": "1.5.0",
          "state": {
            "_dom_classes": [],
            "_model_module": "@jupyter-widgets/controls",
            "_model_module_version": "1.5.0",
            "_model_name": "HTMLModel",
            "_view_count": null,
            "_view_module": "@jupyter-widgets/controls",
            "_view_module_version": "1.5.0",
            "_view_name": "HTMLView",
            "description": "",
            "description_tooltip": null,
            "layout": "IPY_MODEL_4d352fcfe1c540dc9bdca151b592f59b",
            "placeholder": "​",
            "style": "IPY_MODEL_ddc31304e2dc41b7967ac8045820f3d5",
            "value": " 438M/438M [00:05&lt;00:00, 101MB/s]"
          }
        },
        "15a385cdd0f54ecaa5d5f524a86c5f57": {
          "model_module": "@jupyter-widgets/base",
          "model_name": "LayoutModel",
          "model_module_version": "1.2.0",
          "state": {
            "_model_module": "@jupyter-widgets/base",
            "_model_module_version": "1.2.0",
            "_model_name": "LayoutModel",
            "_view_count": null,
            "_view_module": "@jupyter-widgets/base",
            "_view_module_version": "1.2.0",
            "_view_name": "LayoutView",
            "align_content": null,
            "align_items": null,
            "align_self": null,
            "border": null,
            "bottom": null,
            "display": null,
            "flex": null,
            "flex_flow": null,
            "grid_area": null,
            "grid_auto_columns": null,
            "grid_auto_flow": null,
            "grid_auto_rows": null,
            "grid_column": null,
            "grid_gap": null,
            "grid_row": null,
            "grid_template_areas": null,
            "grid_template_columns": null,
            "grid_template_rows": null,
            "height": null,
            "justify_content": null,
            "justify_items": null,
            "left": null,
            "margin": null,
            "max_height": null,
            "max_width": null,
            "min_height": null,
            "min_width": null,
            "object_fit": null,
            "object_position": null,
            "order": null,
            "overflow": null,
            "overflow_x": null,
            "overflow_y": null,
            "padding": null,
            "right": null,
            "top": null,
            "visibility": null,
            "width": null
          }
        },
        "a936b3d86a5f4abe98922af115981e7b": {
          "model_module": "@jupyter-widgets/base",
          "model_name": "LayoutModel",
          "model_module_version": "1.2.0",
          "state": {
            "_model_module": "@jupyter-widgets/base",
            "_model_module_version": "1.2.0",
            "_model_name": "LayoutModel",
            "_view_count": null,
            "_view_module": "@jupyter-widgets/base",
            "_view_module_version": "1.2.0",
            "_view_name": "LayoutView",
            "align_content": null,
            "align_items": null,
            "align_self": null,
            "border": null,
            "bottom": null,
            "display": null,
            "flex": null,
            "flex_flow": null,
            "grid_area": null,
            "grid_auto_columns": null,
            "grid_auto_flow": null,
            "grid_auto_rows": null,
            "grid_column": null,
            "grid_gap": null,
            "grid_row": null,
            "grid_template_areas": null,
            "grid_template_columns": null,
            "grid_template_rows": null,
            "height": null,
            "justify_content": null,
            "justify_items": null,
            "left": null,
            "margin": null,
            "max_height": null,
            "max_width": null,
            "min_height": null,
            "min_width": null,
            "object_fit": null,
            "object_position": null,
            "order": null,
            "overflow": null,
            "overflow_x": null,
            "overflow_y": null,
            "padding": null,
            "right": null,
            "top": null,
            "visibility": null,
            "width": null
          }
        },
        "8ef716a132e34ef5ad38ea51a46a0fbf": {
          "model_module": "@jupyter-widgets/controls",
          "model_name": "DescriptionStyleModel",
          "model_module_version": "1.5.0",
          "state": {
            "_model_module": "@jupyter-widgets/controls",
            "_model_module_version": "1.5.0",
            "_model_name": "DescriptionStyleModel",
            "_view_count": null,
            "_view_module": "@jupyter-widgets/base",
            "_view_module_version": "1.2.0",
            "_view_name": "StyleView",
            "description_width": ""
          }
        },
        "d0e6047f035b4f928f4fa7613a1b24ea": {
          "model_module": "@jupyter-widgets/base",
          "model_name": "LayoutModel",
          "model_module_version": "1.2.0",
          "state": {
            "_model_module": "@jupyter-widgets/base",
            "_model_module_version": "1.2.0",
            "_model_name": "LayoutModel",
            "_view_count": null,
            "_view_module": "@jupyter-widgets/base",
            "_view_module_version": "1.2.0",
            "_view_name": "LayoutView",
            "align_content": null,
            "align_items": null,
            "align_self": null,
            "border": null,
            "bottom": null,
            "display": null,
            "flex": null,
            "flex_flow": null,
            "grid_area": null,
            "grid_auto_columns": null,
            "grid_auto_flow": null,
            "grid_auto_rows": null,
            "grid_column": null,
            "grid_gap": null,
            "grid_row": null,
            "grid_template_areas": null,
            "grid_template_columns": null,
            "grid_template_rows": null,
            "height": null,
            "justify_content": null,
            "justify_items": null,
            "left": null,
            "margin": null,
            "max_height": null,
            "max_width": null,
            "min_height": null,
            "min_width": null,
            "object_fit": null,
            "object_position": null,
            "order": null,
            "overflow": null,
            "overflow_x": null,
            "overflow_y": null,
            "padding": null,
            "right": null,
            "top": null,
            "visibility": null,
            "width": null
          }
        },
        "cf2d9844295240899d0268ae935ed940": {
          "model_module": "@jupyter-widgets/controls",
          "model_name": "ProgressStyleModel",
          "model_module_version": "1.5.0",
          "state": {
            "_model_module": "@jupyter-widgets/controls",
            "_model_module_version": "1.5.0",
            "_model_name": "ProgressStyleModel",
            "_view_count": null,
            "_view_module": "@jupyter-widgets/base",
            "_view_module_version": "1.2.0",
            "_view_name": "StyleView",
            "bar_color": null,
            "description_width": ""
          }
        },
        "4d352fcfe1c540dc9bdca151b592f59b": {
          "model_module": "@jupyter-widgets/base",
          "model_name": "LayoutModel",
          "model_module_version": "1.2.0",
          "state": {
            "_model_module": "@jupyter-widgets/base",
            "_model_module_version": "1.2.0",
            "_model_name": "LayoutModel",
            "_view_count": null,
            "_view_module": "@jupyter-widgets/base",
            "_view_module_version": "1.2.0",
            "_view_name": "LayoutView",
            "align_content": null,
            "align_items": null,
            "align_self": null,
            "border": null,
            "bottom": null,
            "display": null,
            "flex": null,
            "flex_flow": null,
            "grid_area": null,
            "grid_auto_columns": null,
            "grid_auto_flow": null,
            "grid_auto_rows": null,
            "grid_column": null,
            "grid_gap": null,
            "grid_row": null,
            "grid_template_areas": null,
            "grid_template_columns": null,
            "grid_template_rows": null,
            "height": null,
            "justify_content": null,
            "justify_items": null,
            "left": null,
            "margin": null,
            "max_height": null,
            "max_width": null,
            "min_height": null,
            "min_width": null,
            "object_fit": null,
            "object_position": null,
            "order": null,
            "overflow": null,
            "overflow_x": null,
            "overflow_y": null,
            "padding": null,
            "right": null,
            "top": null,
            "visibility": null,
            "width": null
          }
        },
        "ddc31304e2dc41b7967ac8045820f3d5": {
          "model_module": "@jupyter-widgets/controls",
          "model_name": "DescriptionStyleModel",
          "model_module_version": "1.5.0",
          "state": {
            "_model_module": "@jupyter-widgets/controls",
            "_model_module_version": "1.5.0",
            "_model_name": "DescriptionStyleModel",
            "_view_count": null,
            "_view_module": "@jupyter-widgets/base",
            "_view_module_version": "1.2.0",
            "_view_name": "StyleView",
            "description_width": ""
          }
        },
        "b055aa87a9544aa1b640063265b2e5df": {
          "model_module": "@jupyter-widgets/controls",
          "model_name": "HBoxModel",
          "model_module_version": "1.5.0",
          "state": {
            "_dom_classes": [],
            "_model_module": "@jupyter-widgets/controls",
            "_model_module_version": "1.5.0",
            "_model_name": "HBoxModel",
            "_view_count": null,
            "_view_module": "@jupyter-widgets/controls",
            "_view_module_version": "1.5.0",
            "_view_name": "HBoxView",
            "box_style": "",
            "children": [
              "IPY_MODEL_4fcc559a01ad48428ba4ed5490a6f96d",
              "IPY_MODEL_78cc5da3157d4682bcf6ce06fdfb03d2",
              "IPY_MODEL_bc0adabb949c42898b71f9aa47582076"
            ],
            "layout": "IPY_MODEL_2e3113592a5b41659032455b0fce9950"
          }
        },
        "4fcc559a01ad48428ba4ed5490a6f96d": {
          "model_module": "@jupyter-widgets/controls",
          "model_name": "HTMLModel",
          "model_module_version": "1.5.0",
          "state": {
            "_dom_classes": [],
            "_model_module": "@jupyter-widgets/controls",
            "_model_module_version": "1.5.0",
            "_model_name": "HTMLModel",
            "_view_count": null,
            "_view_module": "@jupyter-widgets/controls",
            "_view_module_version": "1.5.0",
            "_view_name": "HTMLView",
            "description": "",
            "description_tooltip": null,
            "layout": "IPY_MODEL_e72269721fa74fe48f0b320ec66b75c2",
            "placeholder": "​",
            "style": "IPY_MODEL_e961fd3210b84fb98f969a3a8db92279",
            "value": "Downloading (…)okenizer_config.json: 100%"
          }
        },
        "78cc5da3157d4682bcf6ce06fdfb03d2": {
          "model_module": "@jupyter-widgets/controls",
          "model_name": "FloatProgressModel",
          "model_module_version": "1.5.0",
          "state": {
            "_dom_classes": [],
            "_model_module": "@jupyter-widgets/controls",
            "_model_module_version": "1.5.0",
            "_model_name": "FloatProgressModel",
            "_view_count": null,
            "_view_module": "@jupyter-widgets/controls",
            "_view_module_version": "1.5.0",
            "_view_name": "ProgressView",
            "bar_style": "success",
            "description": "",
            "description_tooltip": null,
            "layout": "IPY_MODEL_82d5aaafa3294c9ca0b8d391306ede48",
            "max": 252,
            "min": 0,
            "orientation": "horizontal",
            "style": "IPY_MODEL_4593d1f98b2d492e98670a236eb02353",
            "value": 252
          }
        },
        "bc0adabb949c42898b71f9aa47582076": {
          "model_module": "@jupyter-widgets/controls",
          "model_name": "HTMLModel",
          "model_module_version": "1.5.0",
          "state": {
            "_dom_classes": [],
            "_model_module": "@jupyter-widgets/controls",
            "_model_module_version": "1.5.0",
            "_model_name": "HTMLModel",
            "_view_count": null,
            "_view_module": "@jupyter-widgets/controls",
            "_view_module_version": "1.5.0",
            "_view_name": "HTMLView",
            "description": "",
            "description_tooltip": null,
            "layout": "IPY_MODEL_d107e9a49b974117966946cd17f3c624",
            "placeholder": "​",
            "style": "IPY_MODEL_646140759e804246b15fb15bcd17a5f7",
            "value": " 252/252 [00:00&lt;00:00, 8.62kB/s]"
          }
        },
        "2e3113592a5b41659032455b0fce9950": {
          "model_module": "@jupyter-widgets/base",
          "model_name": "LayoutModel",
          "model_module_version": "1.2.0",
          "state": {
            "_model_module": "@jupyter-widgets/base",
            "_model_module_version": "1.2.0",
            "_model_name": "LayoutModel",
            "_view_count": null,
            "_view_module": "@jupyter-widgets/base",
            "_view_module_version": "1.2.0",
            "_view_name": "LayoutView",
            "align_content": null,
            "align_items": null,
            "align_self": null,
            "border": null,
            "bottom": null,
            "display": null,
            "flex": null,
            "flex_flow": null,
            "grid_area": null,
            "grid_auto_columns": null,
            "grid_auto_flow": null,
            "grid_auto_rows": null,
            "grid_column": null,
            "grid_gap": null,
            "grid_row": null,
            "grid_template_areas": null,
            "grid_template_columns": null,
            "grid_template_rows": null,
            "height": null,
            "justify_content": null,
            "justify_items": null,
            "left": null,
            "margin": null,
            "max_height": null,
            "max_width": null,
            "min_height": null,
            "min_width": null,
            "object_fit": null,
            "object_position": null,
            "order": null,
            "overflow": null,
            "overflow_x": null,
            "overflow_y": null,
            "padding": null,
            "right": null,
            "top": null,
            "visibility": null,
            "width": null
          }
        },
        "e72269721fa74fe48f0b320ec66b75c2": {
          "model_module": "@jupyter-widgets/base",
          "model_name": "LayoutModel",
          "model_module_version": "1.2.0",
          "state": {
            "_model_module": "@jupyter-widgets/base",
            "_model_module_version": "1.2.0",
            "_model_name": "LayoutModel",
            "_view_count": null,
            "_view_module": "@jupyter-widgets/base",
            "_view_module_version": "1.2.0",
            "_view_name": "LayoutView",
            "align_content": null,
            "align_items": null,
            "align_self": null,
            "border": null,
            "bottom": null,
            "display": null,
            "flex": null,
            "flex_flow": null,
            "grid_area": null,
            "grid_auto_columns": null,
            "grid_auto_flow": null,
            "grid_auto_rows": null,
            "grid_column": null,
            "grid_gap": null,
            "grid_row": null,
            "grid_template_areas": null,
            "grid_template_columns": null,
            "grid_template_rows": null,
            "height": null,
            "justify_content": null,
            "justify_items": null,
            "left": null,
            "margin": null,
            "max_height": null,
            "max_width": null,
            "min_height": null,
            "min_width": null,
            "object_fit": null,
            "object_position": null,
            "order": null,
            "overflow": null,
            "overflow_x": null,
            "overflow_y": null,
            "padding": null,
            "right": null,
            "top": null,
            "visibility": null,
            "width": null
          }
        },
        "e961fd3210b84fb98f969a3a8db92279": {
          "model_module": "@jupyter-widgets/controls",
          "model_name": "DescriptionStyleModel",
          "model_module_version": "1.5.0",
          "state": {
            "_model_module": "@jupyter-widgets/controls",
            "_model_module_version": "1.5.0",
            "_model_name": "DescriptionStyleModel",
            "_view_count": null,
            "_view_module": "@jupyter-widgets/base",
            "_view_module_version": "1.2.0",
            "_view_name": "StyleView",
            "description_width": ""
          }
        },
        "82d5aaafa3294c9ca0b8d391306ede48": {
          "model_module": "@jupyter-widgets/base",
          "model_name": "LayoutModel",
          "model_module_version": "1.2.0",
          "state": {
            "_model_module": "@jupyter-widgets/base",
            "_model_module_version": "1.2.0",
            "_model_name": "LayoutModel",
            "_view_count": null,
            "_view_module": "@jupyter-widgets/base",
            "_view_module_version": "1.2.0",
            "_view_name": "LayoutView",
            "align_content": null,
            "align_items": null,
            "align_self": null,
            "border": null,
            "bottom": null,
            "display": null,
            "flex": null,
            "flex_flow": null,
            "grid_area": null,
            "grid_auto_columns": null,
            "grid_auto_flow": null,
            "grid_auto_rows": null,
            "grid_column": null,
            "grid_gap": null,
            "grid_row": null,
            "grid_template_areas": null,
            "grid_template_columns": null,
            "grid_template_rows": null,
            "height": null,
            "justify_content": null,
            "justify_items": null,
            "left": null,
            "margin": null,
            "max_height": null,
            "max_width": null,
            "min_height": null,
            "min_width": null,
            "object_fit": null,
            "object_position": null,
            "order": null,
            "overflow": null,
            "overflow_x": null,
            "overflow_y": null,
            "padding": null,
            "right": null,
            "top": null,
            "visibility": null,
            "width": null
          }
        },
        "4593d1f98b2d492e98670a236eb02353": {
          "model_module": "@jupyter-widgets/controls",
          "model_name": "ProgressStyleModel",
          "model_module_version": "1.5.0",
          "state": {
            "_model_module": "@jupyter-widgets/controls",
            "_model_module_version": "1.5.0",
            "_model_name": "ProgressStyleModel",
            "_view_count": null,
            "_view_module": "@jupyter-widgets/base",
            "_view_module_version": "1.2.0",
            "_view_name": "StyleView",
            "bar_color": null,
            "description_width": ""
          }
        },
        "d107e9a49b974117966946cd17f3c624": {
          "model_module": "@jupyter-widgets/base",
          "model_name": "LayoutModel",
          "model_module_version": "1.2.0",
          "state": {
            "_model_module": "@jupyter-widgets/base",
            "_model_module_version": "1.2.0",
            "_model_name": "LayoutModel",
            "_view_count": null,
            "_view_module": "@jupyter-widgets/base",
            "_view_module_version": "1.2.0",
            "_view_name": "LayoutView",
            "align_content": null,
            "align_items": null,
            "align_self": null,
            "border": null,
            "bottom": null,
            "display": null,
            "flex": null,
            "flex_flow": null,
            "grid_area": null,
            "grid_auto_columns": null,
            "grid_auto_flow": null,
            "grid_auto_rows": null,
            "grid_column": null,
            "grid_gap": null,
            "grid_row": null,
            "grid_template_areas": null,
            "grid_template_columns": null,
            "grid_template_rows": null,
            "height": null,
            "justify_content": null,
            "justify_items": null,
            "left": null,
            "margin": null,
            "max_height": null,
            "max_width": null,
            "min_height": null,
            "min_width": null,
            "object_fit": null,
            "object_position": null,
            "order": null,
            "overflow": null,
            "overflow_x": null,
            "overflow_y": null,
            "padding": null,
            "right": null,
            "top": null,
            "visibility": null,
            "width": null
          }
        },
        "646140759e804246b15fb15bcd17a5f7": {
          "model_module": "@jupyter-widgets/controls",
          "model_name": "DescriptionStyleModel",
          "model_module_version": "1.5.0",
          "state": {
            "_model_module": "@jupyter-widgets/controls",
            "_model_module_version": "1.5.0",
            "_model_name": "DescriptionStyleModel",
            "_view_count": null,
            "_view_module": "@jupyter-widgets/base",
            "_view_module_version": "1.2.0",
            "_view_name": "StyleView",
            "description_width": ""
          }
        },
        "1316965eada548bd80217a3751302bb3": {
          "model_module": "@jupyter-widgets/controls",
          "model_name": "HBoxModel",
          "model_module_version": "1.5.0",
          "state": {
            "_dom_classes": [],
            "_model_module": "@jupyter-widgets/controls",
            "_model_module_version": "1.5.0",
            "_model_name": "HBoxModel",
            "_view_count": null,
            "_view_module": "@jupyter-widgets/controls",
            "_view_module_version": "1.5.0",
            "_view_name": "HBoxView",
            "box_style": "",
            "children": [
              "IPY_MODEL_a755b6e854f14b1bbe85970ff0d3c7ba",
              "IPY_MODEL_b01c42ad2f1f459785ab203edbc27ab4",
              "IPY_MODEL_3aa6bde1f7e247c5815399e50d3645fa"
            ],
            "layout": "IPY_MODEL_d95ce16a83e94a5d9ba12211f27bba51"
          }
        },
        "a755b6e854f14b1bbe85970ff0d3c7ba": {
          "model_module": "@jupyter-widgets/controls",
          "model_name": "HTMLModel",
          "model_module_version": "1.5.0",
          "state": {
            "_dom_classes": [],
            "_model_module": "@jupyter-widgets/controls",
            "_model_module_version": "1.5.0",
            "_model_name": "HTMLModel",
            "_view_count": null,
            "_view_module": "@jupyter-widgets/controls",
            "_view_module_version": "1.5.0",
            "_view_name": "HTMLView",
            "description": "",
            "description_tooltip": null,
            "layout": "IPY_MODEL_2fb0725c1ff04ebf9eaf74e0c80e4978",
            "placeholder": "​",
            "style": "IPY_MODEL_ec5d25b7d6c0408cb80b42331c2022e3",
            "value": "Downloading (…)solve/main/vocab.txt: 100%"
          }
        },
        "b01c42ad2f1f459785ab203edbc27ab4": {
          "model_module": "@jupyter-widgets/controls",
          "model_name": "FloatProgressModel",
          "model_module_version": "1.5.0",
          "state": {
            "_dom_classes": [],
            "_model_module": "@jupyter-widgets/controls",
            "_model_module_version": "1.5.0",
            "_model_name": "FloatProgressModel",
            "_view_count": null,
            "_view_module": "@jupyter-widgets/controls",
            "_view_module_version": "1.5.0",
            "_view_name": "ProgressView",
            "bar_style": "success",
            "description": "",
            "description_tooltip": null,
            "layout": "IPY_MODEL_d2e7f56216404aef8d0ec8e3bfb45157",
            "max": 231508,
            "min": 0,
            "orientation": "horizontal",
            "style": "IPY_MODEL_1ce21a10d52e4258bc82b6d8e2fc88a5",
            "value": 231508
          }
        },
        "3aa6bde1f7e247c5815399e50d3645fa": {
          "model_module": "@jupyter-widgets/controls",
          "model_name": "HTMLModel",
          "model_module_version": "1.5.0",
          "state": {
            "_dom_classes": [],
            "_model_module": "@jupyter-widgets/controls",
            "_model_module_version": "1.5.0",
            "_model_name": "HTMLModel",
            "_view_count": null,
            "_view_module": "@jupyter-widgets/controls",
            "_view_module_version": "1.5.0",
            "_view_name": "HTMLView",
            "description": "",
            "description_tooltip": null,
            "layout": "IPY_MODEL_73fd9528e9904cdba6d582132d4453bc",
            "placeholder": "​",
            "style": "IPY_MODEL_8aa45fae79cb4cd6bba2ecd412b65760",
            "value": " 232k/232k [00:00&lt;00:00, 4.70MB/s]"
          }
        },
        "d95ce16a83e94a5d9ba12211f27bba51": {
          "model_module": "@jupyter-widgets/base",
          "model_name": "LayoutModel",
          "model_module_version": "1.2.0",
          "state": {
            "_model_module": "@jupyter-widgets/base",
            "_model_module_version": "1.2.0",
            "_model_name": "LayoutModel",
            "_view_count": null,
            "_view_module": "@jupyter-widgets/base",
            "_view_module_version": "1.2.0",
            "_view_name": "LayoutView",
            "align_content": null,
            "align_items": null,
            "align_self": null,
            "border": null,
            "bottom": null,
            "display": null,
            "flex": null,
            "flex_flow": null,
            "grid_area": null,
            "grid_auto_columns": null,
            "grid_auto_flow": null,
            "grid_auto_rows": null,
            "grid_column": null,
            "grid_gap": null,
            "grid_row": null,
            "grid_template_areas": null,
            "grid_template_columns": null,
            "grid_template_rows": null,
            "height": null,
            "justify_content": null,
            "justify_items": null,
            "left": null,
            "margin": null,
            "max_height": null,
            "max_width": null,
            "min_height": null,
            "min_width": null,
            "object_fit": null,
            "object_position": null,
            "order": null,
            "overflow": null,
            "overflow_x": null,
            "overflow_y": null,
            "padding": null,
            "right": null,
            "top": null,
            "visibility": null,
            "width": null
          }
        },
        "2fb0725c1ff04ebf9eaf74e0c80e4978": {
          "model_module": "@jupyter-widgets/base",
          "model_name": "LayoutModel",
          "model_module_version": "1.2.0",
          "state": {
            "_model_module": "@jupyter-widgets/base",
            "_model_module_version": "1.2.0",
            "_model_name": "LayoutModel",
            "_view_count": null,
            "_view_module": "@jupyter-widgets/base",
            "_view_module_version": "1.2.0",
            "_view_name": "LayoutView",
            "align_content": null,
            "align_items": null,
            "align_self": null,
            "border": null,
            "bottom": null,
            "display": null,
            "flex": null,
            "flex_flow": null,
            "grid_area": null,
            "grid_auto_columns": null,
            "grid_auto_flow": null,
            "grid_auto_rows": null,
            "grid_column": null,
            "grid_gap": null,
            "grid_row": null,
            "grid_template_areas": null,
            "grid_template_columns": null,
            "grid_template_rows": null,
            "height": null,
            "justify_content": null,
            "justify_items": null,
            "left": null,
            "margin": null,
            "max_height": null,
            "max_width": null,
            "min_height": null,
            "min_width": null,
            "object_fit": null,
            "object_position": null,
            "order": null,
            "overflow": null,
            "overflow_x": null,
            "overflow_y": null,
            "padding": null,
            "right": null,
            "top": null,
            "visibility": null,
            "width": null
          }
        },
        "ec5d25b7d6c0408cb80b42331c2022e3": {
          "model_module": "@jupyter-widgets/controls",
          "model_name": "DescriptionStyleModel",
          "model_module_version": "1.5.0",
          "state": {
            "_model_module": "@jupyter-widgets/controls",
            "_model_module_version": "1.5.0",
            "_model_name": "DescriptionStyleModel",
            "_view_count": null,
            "_view_module": "@jupyter-widgets/base",
            "_view_module_version": "1.2.0",
            "_view_name": "StyleView",
            "description_width": ""
          }
        },
        "d2e7f56216404aef8d0ec8e3bfb45157": {
          "model_module": "@jupyter-widgets/base",
          "model_name": "LayoutModel",
          "model_module_version": "1.2.0",
          "state": {
            "_model_module": "@jupyter-widgets/base",
            "_model_module_version": "1.2.0",
            "_model_name": "LayoutModel",
            "_view_count": null,
            "_view_module": "@jupyter-widgets/base",
            "_view_module_version": "1.2.0",
            "_view_name": "LayoutView",
            "align_content": null,
            "align_items": null,
            "align_self": null,
            "border": null,
            "bottom": null,
            "display": null,
            "flex": null,
            "flex_flow": null,
            "grid_area": null,
            "grid_auto_columns": null,
            "grid_auto_flow": null,
            "grid_auto_rows": null,
            "grid_column": null,
            "grid_gap": null,
            "grid_row": null,
            "grid_template_areas": null,
            "grid_template_columns": null,
            "grid_template_rows": null,
            "height": null,
            "justify_content": null,
            "justify_items": null,
            "left": null,
            "margin": null,
            "max_height": null,
            "max_width": null,
            "min_height": null,
            "min_width": null,
            "object_fit": null,
            "object_position": null,
            "order": null,
            "overflow": null,
            "overflow_x": null,
            "overflow_y": null,
            "padding": null,
            "right": null,
            "top": null,
            "visibility": null,
            "width": null
          }
        },
        "1ce21a10d52e4258bc82b6d8e2fc88a5": {
          "model_module": "@jupyter-widgets/controls",
          "model_name": "ProgressStyleModel",
          "model_module_version": "1.5.0",
          "state": {
            "_model_module": "@jupyter-widgets/controls",
            "_model_module_version": "1.5.0",
            "_model_name": "ProgressStyleModel",
            "_view_count": null,
            "_view_module": "@jupyter-widgets/base",
            "_view_module_version": "1.2.0",
            "_view_name": "StyleView",
            "bar_color": null,
            "description_width": ""
          }
        },
        "73fd9528e9904cdba6d582132d4453bc": {
          "model_module": "@jupyter-widgets/base",
          "model_name": "LayoutModel",
          "model_module_version": "1.2.0",
          "state": {
            "_model_module": "@jupyter-widgets/base",
            "_model_module_version": "1.2.0",
            "_model_name": "LayoutModel",
            "_view_count": null,
            "_view_module": "@jupyter-widgets/base",
            "_view_module_version": "1.2.0",
            "_view_name": "LayoutView",
            "align_content": null,
            "align_items": null,
            "align_self": null,
            "border": null,
            "bottom": null,
            "display": null,
            "flex": null,
            "flex_flow": null,
            "grid_area": null,
            "grid_auto_columns": null,
            "grid_auto_flow": null,
            "grid_auto_rows": null,
            "grid_column": null,
            "grid_gap": null,
            "grid_row": null,
            "grid_template_areas": null,
            "grid_template_columns": null,
            "grid_template_rows": null,
            "height": null,
            "justify_content": null,
            "justify_items": null,
            "left": null,
            "margin": null,
            "max_height": null,
            "max_width": null,
            "min_height": null,
            "min_width": null,
            "object_fit": null,
            "object_position": null,
            "order": null,
            "overflow": null,
            "overflow_x": null,
            "overflow_y": null,
            "padding": null,
            "right": null,
            "top": null,
            "visibility": null,
            "width": null
          }
        },
        "8aa45fae79cb4cd6bba2ecd412b65760": {
          "model_module": "@jupyter-widgets/controls",
          "model_name": "DescriptionStyleModel",
          "model_module_version": "1.5.0",
          "state": {
            "_model_module": "@jupyter-widgets/controls",
            "_model_module_version": "1.5.0",
            "_model_name": "DescriptionStyleModel",
            "_view_count": null,
            "_view_module": "@jupyter-widgets/base",
            "_view_module_version": "1.2.0",
            "_view_name": "StyleView",
            "description_width": ""
          }
        },
        "172dd98e9622468cb1e69d65c2f217e7": {
          "model_module": "@jupyter-widgets/controls",
          "model_name": "HBoxModel",
          "model_module_version": "1.5.0",
          "state": {
            "_dom_classes": [],
            "_model_module": "@jupyter-widgets/controls",
            "_model_module_version": "1.5.0",
            "_model_name": "HBoxModel",
            "_view_count": null,
            "_view_module": "@jupyter-widgets/controls",
            "_view_module_version": "1.5.0",
            "_view_name": "HBoxView",
            "box_style": "",
            "children": [
              "IPY_MODEL_df06d8361ff4400e9c655f36df766b66",
              "IPY_MODEL_cc64f92ad2ce4c37a28352b3aa971635",
              "IPY_MODEL_128dbec0376f4a25ab38d4bc4ed89783"
            ],
            "layout": "IPY_MODEL_7ca4f6b798f34da482c23cd284ab7ee9"
          }
        },
        "df06d8361ff4400e9c655f36df766b66": {
          "model_module": "@jupyter-widgets/controls",
          "model_name": "HTMLModel",
          "model_module_version": "1.5.0",
          "state": {
            "_dom_classes": [],
            "_model_module": "@jupyter-widgets/controls",
            "_model_module_version": "1.5.0",
            "_model_name": "HTMLModel",
            "_view_count": null,
            "_view_module": "@jupyter-widgets/controls",
            "_view_module_version": "1.5.0",
            "_view_name": "HTMLView",
            "description": "",
            "description_tooltip": null,
            "layout": "IPY_MODEL_407ffd5a60754d02a1f123ff0ce37575",
            "placeholder": "​",
            "style": "IPY_MODEL_32201c8e45c342d3b9ee5f77d39b4720",
            "value": "Downloading (…)cial_tokens_map.json: 100%"
          }
        },
        "cc64f92ad2ce4c37a28352b3aa971635": {
          "model_module": "@jupyter-widgets/controls",
          "model_name": "FloatProgressModel",
          "model_module_version": "1.5.0",
          "state": {
            "_dom_classes": [],
            "_model_module": "@jupyter-widgets/controls",
            "_model_module_version": "1.5.0",
            "_model_name": "FloatProgressModel",
            "_view_count": null,
            "_view_module": "@jupyter-widgets/controls",
            "_view_module_version": "1.5.0",
            "_view_name": "ProgressView",
            "bar_style": "success",
            "description": "",
            "description_tooltip": null,
            "layout": "IPY_MODEL_00035a9b1fd249eda0dddae399371e1a",
            "max": 112,
            "min": 0,
            "orientation": "horizontal",
            "style": "IPY_MODEL_225da524b9e8403285a677279398c556",
            "value": 112
          }
        },
        "128dbec0376f4a25ab38d4bc4ed89783": {
          "model_module": "@jupyter-widgets/controls",
          "model_name": "HTMLModel",
          "model_module_version": "1.5.0",
          "state": {
            "_dom_classes": [],
            "_model_module": "@jupyter-widgets/controls",
            "_model_module_version": "1.5.0",
            "_model_name": "HTMLModel",
            "_view_count": null,
            "_view_module": "@jupyter-widgets/controls",
            "_view_module_version": "1.5.0",
            "_view_name": "HTMLView",
            "description": "",
            "description_tooltip": null,
            "layout": "IPY_MODEL_537d172ee9e94d2da17b2f5df94503a6",
            "placeholder": "​",
            "style": "IPY_MODEL_373055dcce1f4a2fb394a0edea77adf9",
            "value": " 112/112 [00:00&lt;00:00, 6.32kB/s]"
          }
        },
        "7ca4f6b798f34da482c23cd284ab7ee9": {
          "model_module": "@jupyter-widgets/base",
          "model_name": "LayoutModel",
          "model_module_version": "1.2.0",
          "state": {
            "_model_module": "@jupyter-widgets/base",
            "_model_module_version": "1.2.0",
            "_model_name": "LayoutModel",
            "_view_count": null,
            "_view_module": "@jupyter-widgets/base",
            "_view_module_version": "1.2.0",
            "_view_name": "LayoutView",
            "align_content": null,
            "align_items": null,
            "align_self": null,
            "border": null,
            "bottom": null,
            "display": null,
            "flex": null,
            "flex_flow": null,
            "grid_area": null,
            "grid_auto_columns": null,
            "grid_auto_flow": null,
            "grid_auto_rows": null,
            "grid_column": null,
            "grid_gap": null,
            "grid_row": null,
            "grid_template_areas": null,
            "grid_template_columns": null,
            "grid_template_rows": null,
            "height": null,
            "justify_content": null,
            "justify_items": null,
            "left": null,
            "margin": null,
            "max_height": null,
            "max_width": null,
            "min_height": null,
            "min_width": null,
            "object_fit": null,
            "object_position": null,
            "order": null,
            "overflow": null,
            "overflow_x": null,
            "overflow_y": null,
            "padding": null,
            "right": null,
            "top": null,
            "visibility": null,
            "width": null
          }
        },
        "407ffd5a60754d02a1f123ff0ce37575": {
          "model_module": "@jupyter-widgets/base",
          "model_name": "LayoutModel",
          "model_module_version": "1.2.0",
          "state": {
            "_model_module": "@jupyter-widgets/base",
            "_model_module_version": "1.2.0",
            "_model_name": "LayoutModel",
            "_view_count": null,
            "_view_module": "@jupyter-widgets/base",
            "_view_module_version": "1.2.0",
            "_view_name": "LayoutView",
            "align_content": null,
            "align_items": null,
            "align_self": null,
            "border": null,
            "bottom": null,
            "display": null,
            "flex": null,
            "flex_flow": null,
            "grid_area": null,
            "grid_auto_columns": null,
            "grid_auto_flow": null,
            "grid_auto_rows": null,
            "grid_column": null,
            "grid_gap": null,
            "grid_row": null,
            "grid_template_areas": null,
            "grid_template_columns": null,
            "grid_template_rows": null,
            "height": null,
            "justify_content": null,
            "justify_items": null,
            "left": null,
            "margin": null,
            "max_height": null,
            "max_width": null,
            "min_height": null,
            "min_width": null,
            "object_fit": null,
            "object_position": null,
            "order": null,
            "overflow": null,
            "overflow_x": null,
            "overflow_y": null,
            "padding": null,
            "right": null,
            "top": null,
            "visibility": null,
            "width": null
          }
        },
        "32201c8e45c342d3b9ee5f77d39b4720": {
          "model_module": "@jupyter-widgets/controls",
          "model_name": "DescriptionStyleModel",
          "model_module_version": "1.5.0",
          "state": {
            "_model_module": "@jupyter-widgets/controls",
            "_model_module_version": "1.5.0",
            "_model_name": "DescriptionStyleModel",
            "_view_count": null,
            "_view_module": "@jupyter-widgets/base",
            "_view_module_version": "1.2.0",
            "_view_name": "StyleView",
            "description_width": ""
          }
        },
        "00035a9b1fd249eda0dddae399371e1a": {
          "model_module": "@jupyter-widgets/base",
          "model_name": "LayoutModel",
          "model_module_version": "1.2.0",
          "state": {
            "_model_module": "@jupyter-widgets/base",
            "_model_module_version": "1.2.0",
            "_model_name": "LayoutModel",
            "_view_count": null,
            "_view_module": "@jupyter-widgets/base",
            "_view_module_version": "1.2.0",
            "_view_name": "LayoutView",
            "align_content": null,
            "align_items": null,
            "align_self": null,
            "border": null,
            "bottom": null,
            "display": null,
            "flex": null,
            "flex_flow": null,
            "grid_area": null,
            "grid_auto_columns": null,
            "grid_auto_flow": null,
            "grid_auto_rows": null,
            "grid_column": null,
            "grid_gap": null,
            "grid_row": null,
            "grid_template_areas": null,
            "grid_template_columns": null,
            "grid_template_rows": null,
            "height": null,
            "justify_content": null,
            "justify_items": null,
            "left": null,
            "margin": null,
            "max_height": null,
            "max_width": null,
            "min_height": null,
            "min_width": null,
            "object_fit": null,
            "object_position": null,
            "order": null,
            "overflow": null,
            "overflow_x": null,
            "overflow_y": null,
            "padding": null,
            "right": null,
            "top": null,
            "visibility": null,
            "width": null
          }
        },
        "225da524b9e8403285a677279398c556": {
          "model_module": "@jupyter-widgets/controls",
          "model_name": "ProgressStyleModel",
          "model_module_version": "1.5.0",
          "state": {
            "_model_module": "@jupyter-widgets/controls",
            "_model_module_version": "1.5.0",
            "_model_name": "ProgressStyleModel",
            "_view_count": null,
            "_view_module": "@jupyter-widgets/base",
            "_view_module_version": "1.2.0",
            "_view_name": "StyleView",
            "bar_color": null,
            "description_width": ""
          }
        },
        "537d172ee9e94d2da17b2f5df94503a6": {
          "model_module": "@jupyter-widgets/base",
          "model_name": "LayoutModel",
          "model_module_version": "1.2.0",
          "state": {
            "_model_module": "@jupyter-widgets/base",
            "_model_module_version": "1.2.0",
            "_model_name": "LayoutModel",
            "_view_count": null,
            "_view_module": "@jupyter-widgets/base",
            "_view_module_version": "1.2.0",
            "_view_name": "LayoutView",
            "align_content": null,
            "align_items": null,
            "align_self": null,
            "border": null,
            "bottom": null,
            "display": null,
            "flex": null,
            "flex_flow": null,
            "grid_area": null,
            "grid_auto_columns": null,
            "grid_auto_flow": null,
            "grid_auto_rows": null,
            "grid_column": null,
            "grid_gap": null,
            "grid_row": null,
            "grid_template_areas": null,
            "grid_template_columns": null,
            "grid_template_rows": null,
            "height": null,
            "justify_content": null,
            "justify_items": null,
            "left": null,
            "margin": null,
            "max_height": null,
            "max_width": null,
            "min_height": null,
            "min_width": null,
            "object_fit": null,
            "object_position": null,
            "order": null,
            "overflow": null,
            "overflow_x": null,
            "overflow_y": null,
            "padding": null,
            "right": null,
            "top": null,
            "visibility": null,
            "width": null
          }
        },
        "373055dcce1f4a2fb394a0edea77adf9": {
          "model_module": "@jupyter-widgets/controls",
          "model_name": "DescriptionStyleModel",
          "model_module_version": "1.5.0",
          "state": {
            "_model_module": "@jupyter-widgets/controls",
            "_model_module_version": "1.5.0",
            "_model_name": "DescriptionStyleModel",
            "_view_count": null,
            "_view_module": "@jupyter-widgets/base",
            "_view_module_version": "1.2.0",
            "_view_name": "StyleView",
            "description_width": ""
          }
        }
      }
    }
  },
  "cells": [
    {
      "cell_type": "markdown",
      "metadata": {
        "id": "view-in-github",
        "colab_type": "text"
      },
      "source": [
        "<a href=\"https://colab.research.google.com/github/shubhangkhare/Transformers/blob/main/6.%20Sentiment%20Analysis%20Journey%20with%20multiple%20models.ipynb\" target=\"_parent\"><img src=\"https://colab.research.google.com/assets/colab-badge.svg\" alt=\"Open In Colab\"/></a>"
      ]
    },
    {
      "cell_type": "markdown",
      "source": [
        "# Import Libraries"
      ],
      "metadata": {
        "id": "Rw2eFWvUQgmc"
      }
    },
    {
      "cell_type": "code",
      "source": [
        "!pip install transformers -q"
      ],
      "metadata": {
        "colab": {
          "base_uri": "https://localhost:8080/"
        },
        "id": "qHV5vj-lQgYk",
        "outputId": "ef08ab86-84df-4b34-ab83-9e48c1ef1ce3"
      },
      "execution_count": 2,
      "outputs": [
        {
          "output_type": "stream",
          "name": "stdout",
          "text": [
            "\u001b[2K     \u001b[90m━━━━━━━━━━━━━━━━━━━━━━━━━━━━━━━━━━━━━━━━\u001b[0m \u001b[32m7.4/7.4 MB\u001b[0m \u001b[31m17.4 MB/s\u001b[0m eta \u001b[36m0:00:00\u001b[0m\n",
            "\u001b[2K     \u001b[90m━━━━━━━━━━━━━━━━━━━━━━━━━━━━━━━━━━━━━━\u001b[0m \u001b[32m268.8/268.8 kB\u001b[0m \u001b[31m24.1 MB/s\u001b[0m eta \u001b[36m0:00:00\u001b[0m\n",
            "\u001b[2K     \u001b[90m━━━━━━━━━━━━━━━━━━━━━━━━━━━━━━━━━━━━━━━━\u001b[0m \u001b[32m7.8/7.8 MB\u001b[0m \u001b[31m34.8 MB/s\u001b[0m eta \u001b[36m0:00:00\u001b[0m\n",
            "\u001b[2K     \u001b[90m━━━━━━━━━━━━━━━━━━━━━━━━━━━━━━━━━━━━━━━━\u001b[0m \u001b[32m1.3/1.3 MB\u001b[0m \u001b[31m51.6 MB/s\u001b[0m eta \u001b[36m0:00:00\u001b[0m\n",
            "\u001b[?25h"
          ]
        }
      ]
    },
    {
      "cell_type": "code",
      "source": [
        "from transformers import pipeline"
      ],
      "metadata": {
        "id": "dhdUYauoQnO2"
      },
      "execution_count": 3,
      "outputs": []
    },
    {
      "cell_type": "markdown",
      "source": [
        "# Sample customer agent conversation"
      ],
      "metadata": {
        "id": "OlVaE9GUR4SA"
      }
    },
    {
      "cell_type": "code",
      "source": [
        "conv = '''Customer: Finally, I'm able to get through to someone! I've been trying to call for ages, and my query is still not resolved.\n",
        "\n",
        "Agent: I apologize for the inconvenience, sir. I understand your frustration, and I'm here to assist you. Can you please share your account details so that I can access your information?\n",
        "\n",
        "Customer: Fine, my account number is 1234567890, and my name is John Smith. But honestly, I've provided this information multiple times, and it seems like I'm going in circles here.\n",
        "\n",
        "Agent: I'm really sorry for the repeated inconvenience, John. Let me quickly look up your account details again and see what's causing the delay.\n",
        "\n",
        "Agent: Thank you for your patience. I can see that you've requested a change in your mobile number to 555-5678, and it should have been resolved by now. I'm escalating this to our technical team immediately.\n",
        "\n",
        "Customer: Finally! I've been waiting for this to be sorted out for days. Can you assure me that someone will actually get back to me this time?\n",
        "\n",
        "Agent: I completely understand your frustration, John. Rest assured, I'll personally follow up on this matter and ensure that our technical team contacts you within the next hour.\n",
        "\n",
        "Customer: Well, it's about time! I hope this issue gets resolved once and for all. I've had to call so many times, and it's incredibly frustrating.\n",
        "\n",
        "Agent: I completely empathize with you, John. Resolving this issue is our top priority now. If there's anything else you need assistance with, please don't hesitate to let me know.\n",
        "\n",
        "Customer: Alright, please just make sure I get a call back soon. I really need this sorted out.\n",
        "\n",
        "Agent: I understand, John. I'll personally monitor the progress and ensure that you get the assistance you need. Thank you for your patience, and I'm sorry again for the inconvenience caused.\n",
        "\n",
        "Customer: Thank you. I hope this will be the last call I need to make regarding this issue.\n",
        "\n",
        "Agent: You're welcome, John. I'll do my best to make sure it is. If there's anything else I can help with, don't hesitate to call. Have a better day ahead!\n",
        "\n",
        "Customer: Thank you. Goodbye.\n",
        "\n",
        "Agent: Goodbye, John. Take care!'''"
      ],
      "metadata": {
        "id": "OXwVOUTzR7of"
      },
      "execution_count": 6,
      "outputs": []
    },
    {
      "cell_type": "code",
      "source": [
        "len(conv)"
      ],
      "metadata": {
        "colab": {
          "base_uri": "https://localhost:8080/"
        },
        "id": "dz7sYp9aSBrZ",
        "outputId": "76ed2334-859b-456c-d4a8-f653c2e0b719"
      },
      "execution_count": 7,
      "outputs": [
        {
          "output_type": "execute_result",
          "data": {
            "text/plain": [
              "2114"
            ]
          },
          "metadata": {},
          "execution_count": 7
        }
      ]
    },
    {
      "cell_type": "markdown",
      "source": [
        "# Sentiment Analysis"
      ],
      "metadata": {
        "id": "sokjoAxbQPOv"
      }
    },
    {
      "cell_type": "markdown",
      "source": [
        "## Function to get the highest emotion"
      ],
      "metadata": {
        "id": "MOmMwmqJULJa"
      }
    },
    {
      "cell_type": "code",
      "source": [
        "def get_highest_score_label(labels_list):\n",
        "    highest_score_label = max(labels_list[0], key=lambda x: x['score'])\n",
        "    return highest_score_label['label']"
      ],
      "metadata": {
        "id": "TLXE8VXnUKkJ"
      },
      "execution_count": 24,
      "outputs": []
    },
    {
      "cell_type": "markdown",
      "source": [
        "## Function to sort emotion based on scores"
      ],
      "metadata": {
        "id": "4cQfM9oiUrH9"
      }
    },
    {
      "cell_type": "code",
      "source": [
        "def sort_labels_by_score(labels_list):\n",
        "    sorted_labels = sorted(labels_list[0], key=lambda x: x['score'], reverse=True)\n",
        "    return sorted_labels"
      ],
      "metadata": {
        "id": "P-jh5fGAUt7A"
      },
      "execution_count": 25,
      "outputs": []
    },
    {
      "cell_type": "markdown",
      "source": [
        "## Function to print emotion with highest score and sorted emotion list"
      ],
      "metadata": {
        "id": "fcxUBaObVIcL"
      }
    },
    {
      "cell_type": "code",
      "source": [
        "def print_emotion_and_dict(labels_list):\n",
        "    print(get_highest_score_label(labels_list))\n",
        "    print(sort_labels_by_score(labels_list))"
      ],
      "metadata": {
        "id": "XdU6gl9GVQ3Q"
      },
      "execution_count": 30,
      "outputs": []
    },
    {
      "cell_type": "code",
      "source": [],
      "metadata": {
        "id": "p9q9fs-bVH2N"
      },
      "execution_count": null,
      "outputs": []
    },
    {
      "cell_type": "markdown",
      "source": [
        "## roberta-base-go_emotions\n",
        "* Size ~ 500MB\n"
      ],
      "metadata": {
        "id": "3zA_JPo3QTp2"
      }
    },
    {
      "cell_type": "code",
      "execution_count": 17,
      "metadata": {
        "id": "-_04K0IeQNRT"
      },
      "outputs": [],
      "source": [
        "# Use a pipeline as a high-level helper\n",
        "from transformers import pipeline\n",
        "\n",
        "pipe_ea1 = pipeline(\"text-classification\", model=\"SamLowe/roberta-base-go_emotions\", return_all_scores = True)"
      ]
    },
    {
      "cell_type": "code",
      "source": [
        "print_emotion_and_dict(pipe_ea1(conv))"
      ],
      "metadata": {
        "colab": {
          "base_uri": "https://localhost:8080/"
        },
        "id": "7s9TlKvrQWK6",
        "outputId": "c7465515-e7e8-4f49-951b-ce049fbcf1c9"
      },
      "execution_count": 32,
      "outputs": [
        {
          "output_type": "stream",
          "name": "stdout",
          "text": [
            "gratitude\n",
            "[{'label': 'gratitude', 'score': 0.8254808187484741}, {'label': 'remorse', 'score': 0.299358993768692}, {'label': 'caring', 'score': 0.23282067477703094}, {'label': 'curiosity', 'score': 0.15467439591884613}, {'label': 'optimism', 'score': 0.1470542997121811}, {'label': 'approval', 'score': 0.056408852338790894}, {'label': 'desire', 'score': 0.03329768404364586}, {'label': 'sadness', 'score': 0.03250192105770111}, {'label': 'confusion', 'score': 0.029363693669438362}, {'label': 'disapproval', 'score': 0.021031156182289124}, {'label': 'neutral', 'score': 0.016561351716518402}, {'label': 'annoyance', 'score': 0.014844697900116444}, {'label': 'disappointment', 'score': 0.01137610524892807}, {'label': 'relief', 'score': 0.010650536976754665}, {'label': 'realization', 'score': 0.009087479673326015}, {'label': 'admiration', 'score': 0.008436894975602627}, {'label': 'anger', 'score': 0.00785782653838396}, {'label': 'joy', 'score': 0.006610790733247995}, {'label': 'nervousness', 'score': 0.005122628528624773}, {'label': 'grief', 'score': 0.0050286282785236835}, {'label': 'excitement', 'score': 0.005018930416554213}, {'label': 'love', 'score': 0.0042532822117209435}, {'label': 'fear', 'score': 0.0035654769744724035}, {'label': 'embarrassment', 'score': 0.0032600904814898968}, {'label': 'surprise', 'score': 0.0021496571134775877}, {'label': 'disgust', 'score': 0.0021115699782967567}, {'label': 'pride', 'score': 0.0018879870185628533}, {'label': 'amusement', 'score': 0.0014853135216981173}]\n"
          ]
        }
      ]
    },
    {
      "cell_type": "code",
      "source": [],
      "metadata": {
        "colab": {
          "base_uri": "https://localhost:8080/"
        },
        "id": "qYNaz4D1SRrM",
        "outputId": "d8b82870-ee37-419f-f301-8bcc124690ff"
      },
      "execution_count": 11,
      "outputs": [
        {
          "output_type": "execute_result",
          "data": {
            "text/plain": [
              "[{'label': 'annoyance', 'score': 0.4928407669067383}]"
            ]
          },
          "metadata": {},
          "execution_count": 11
        }
      ]
    },
    {
      "cell_type": "markdown",
      "source": [
        "## j-hartmann/emotion-english-distilroberta-base\n",
        "* Size ~ 329 MB"
      ],
      "metadata": {
        "id": "0etVrZC-Sm_n"
      }
    },
    {
      "cell_type": "code",
      "source": [
        "pipe_ea2 = pipeline(\"text-classification\", model=\"j-hartmann/emotion-english-distilroberta-base\", return_all_scores = True)"
      ],
      "metadata": {
        "colab": {
          "base_uri": "https://localhost:8080/"
        },
        "id": "HIAIDgXkSnai",
        "outputId": "7def3c7c-3dbf-4ab0-a873-960ae92df874"
      },
      "execution_count": 15,
      "outputs": [
        {
          "output_type": "stream",
          "name": "stderr",
          "text": [
            "/usr/local/lib/python3.10/dist-packages/transformers/pipelines/text_classification.py:104: UserWarning: `return_all_scores` is now deprecated,  if want a similar functionality use `top_k=None` instead of `return_all_scores=True` or `top_k=1` instead of `return_all_scores=False`.\n",
            "  warnings.warn(\n"
          ]
        }
      ]
    },
    {
      "cell_type": "code",
      "source": [
        "pipe_ea2('angry good good surprise', return_all_scores = True)"
      ],
      "metadata": {
        "colab": {
          "base_uri": "https://localhost:8080/"
        },
        "id": "W7zT2EVaSzuR",
        "outputId": "36cfae60-33eb-4955-b5e4-18c222183f46"
      },
      "execution_count": 16,
      "outputs": [
        {
          "output_type": "execute_result",
          "data": {
            "text/plain": [
              "[[{'label': 'anger', 'score': 0.005621033720672131},\n",
              "  {'label': 'disgust', 'score': 0.0007107953424565494},\n",
              "  {'label': 'fear', 'score': 0.0006112875998951495},\n",
              "  {'label': 'joy', 'score': 0.7419829368591309},\n",
              "  {'label': 'neutral', 'score': 0.021931331604719162},\n",
              "  {'label': 'sadness', 'score': 0.011990537866950035},\n",
              "  {'label': 'surprise', 'score': 0.21715211868286133}]]"
            ]
          },
          "metadata": {},
          "execution_count": 16
        }
      ]
    },
    {
      "cell_type": "markdown",
      "source": [
        "## ProsusAI/finbert"
      ],
      "metadata": {
        "id": "1J4Z8r4IZZRI"
      }
    },
    {
      "cell_type": "code",
      "source": [
        "pipe = pipeline(\"text-classification\", model=\"ProsusAI/finbert\")"
      ],
      "metadata": {
        "colab": {
          "base_uri": "https://localhost:8080/",
          "height": 177,
          "referenced_widgets": [
            "6e68c8ba26c243c299ca66bcaf437bf2",
            "405814e2907044eb9f5c149a6592fca5",
            "6fa2d6291abf497388aceec4e328aa71",
            "5e554012cec1493fa5a54cd19d62b705",
            "e2f4bcdac0394cd4b72fd9f389ea97e7",
            "068eed700ea04f699120c2b962bffa05",
            "02f2a8ae88704defa99752cf6d91369f",
            "71894ad897114a309a003dec7c70a047",
            "8a412399cde14c7d9e9450241e3dfa2b",
            "e809ec7ad1ce45e3bae5014d3c1de6bb",
            "6b20cda2eafc4e47bf3c352ca914884b",
            "b0b9272fe93944e8974ddc0718661b77",
            "9a8295dee82b4c4b8007026da652aba6",
            "89029e3be6d54dedaf0c8f6fb586f89f",
            "4719950a5aed4218b54352674c7e190b",
            "15a385cdd0f54ecaa5d5f524a86c5f57",
            "a936b3d86a5f4abe98922af115981e7b",
            "8ef716a132e34ef5ad38ea51a46a0fbf",
            "d0e6047f035b4f928f4fa7613a1b24ea",
            "cf2d9844295240899d0268ae935ed940",
            "4d352fcfe1c540dc9bdca151b592f59b",
            "ddc31304e2dc41b7967ac8045820f3d5",
            "b055aa87a9544aa1b640063265b2e5df",
            "4fcc559a01ad48428ba4ed5490a6f96d",
            "78cc5da3157d4682bcf6ce06fdfb03d2",
            "bc0adabb949c42898b71f9aa47582076",
            "2e3113592a5b41659032455b0fce9950",
            "e72269721fa74fe48f0b320ec66b75c2",
            "e961fd3210b84fb98f969a3a8db92279",
            "82d5aaafa3294c9ca0b8d391306ede48",
            "4593d1f98b2d492e98670a236eb02353",
            "d107e9a49b974117966946cd17f3c624",
            "646140759e804246b15fb15bcd17a5f7",
            "1316965eada548bd80217a3751302bb3",
            "a755b6e854f14b1bbe85970ff0d3c7ba",
            "b01c42ad2f1f459785ab203edbc27ab4",
            "3aa6bde1f7e247c5815399e50d3645fa",
            "d95ce16a83e94a5d9ba12211f27bba51",
            "2fb0725c1ff04ebf9eaf74e0c80e4978",
            "ec5d25b7d6c0408cb80b42331c2022e3",
            "d2e7f56216404aef8d0ec8e3bfb45157",
            "1ce21a10d52e4258bc82b6d8e2fc88a5",
            "73fd9528e9904cdba6d582132d4453bc",
            "8aa45fae79cb4cd6bba2ecd412b65760",
            "172dd98e9622468cb1e69d65c2f217e7",
            "df06d8361ff4400e9c655f36df766b66",
            "cc64f92ad2ce4c37a28352b3aa971635",
            "128dbec0376f4a25ab38d4bc4ed89783",
            "7ca4f6b798f34da482c23cd284ab7ee9",
            "407ffd5a60754d02a1f123ff0ce37575",
            "32201c8e45c342d3b9ee5f77d39b4720",
            "00035a9b1fd249eda0dddae399371e1a",
            "225da524b9e8403285a677279398c556",
            "537d172ee9e94d2da17b2f5df94503a6",
            "373055dcce1f4a2fb394a0edea77adf9"
          ]
        },
        "id": "yjstDPJcZYih",
        "outputId": "8a599b14-ca8f-4959-8cda-da65dba02354"
      },
      "execution_count": 34,
      "outputs": [
        {
          "output_type": "display_data",
          "data": {
            "text/plain": [
              "Downloading (…)lve/main/config.json:   0%|          | 0.00/758 [00:00<?, ?B/s]"
            ],
            "application/vnd.jupyter.widget-view+json": {
              "version_major": 2,
              "version_minor": 0,
              "model_id": "6e68c8ba26c243c299ca66bcaf437bf2"
            }
          },
          "metadata": {}
        },
        {
          "output_type": "display_data",
          "data": {
            "text/plain": [
              "Downloading pytorch_model.bin:   0%|          | 0.00/438M [00:00<?, ?B/s]"
            ],
            "application/vnd.jupyter.widget-view+json": {
              "version_major": 2,
              "version_minor": 0,
              "model_id": "b0b9272fe93944e8974ddc0718661b77"
            }
          },
          "metadata": {}
        },
        {
          "output_type": "display_data",
          "data": {
            "text/plain": [
              "Downloading (…)okenizer_config.json:   0%|          | 0.00/252 [00:00<?, ?B/s]"
            ],
            "application/vnd.jupyter.widget-view+json": {
              "version_major": 2,
              "version_minor": 0,
              "model_id": "b055aa87a9544aa1b640063265b2e5df"
            }
          },
          "metadata": {}
        },
        {
          "output_type": "display_data",
          "data": {
            "text/plain": [
              "Downloading (…)solve/main/vocab.txt:   0%|          | 0.00/232k [00:00<?, ?B/s]"
            ],
            "application/vnd.jupyter.widget-view+json": {
              "version_major": 2,
              "version_minor": 0,
              "model_id": "1316965eada548bd80217a3751302bb3"
            }
          },
          "metadata": {}
        },
        {
          "output_type": "display_data",
          "data": {
            "text/plain": [
              "Downloading (…)cial_tokens_map.json:   0%|          | 0.00/112 [00:00<?, ?B/s]"
            ],
            "application/vnd.jupyter.widget-view+json": {
              "version_major": 2,
              "version_minor": 0,
              "model_id": "172dd98e9622468cb1e69d65c2f217e7"
            }
          },
          "metadata": {}
        }
      ]
    },
    {
      "cell_type": "markdown",
      "source": [
        "# Sentiment Journey over text"
      ],
      "metadata": {
        "id": "aQYxIHqufwz-"
      }
    },
    {
      "cell_type": "code",
      "source": [
        "from transformers import pipeline\n",
        "\n",
        "def get_sentiment_large_text(sentiment_pipeline, text, chunk_size = 1000):\n",
        "\n",
        "    # Process the large text in chunks or paragraphs (you can adjust the chunk size as per your requirements)\n",
        "    chunk_size = 1000  # Set an appropriate chunk size\n",
        "    chunks = [text[i:i+chunk_size] for i in range(0, len(text), chunk_size)]\n",
        "\n",
        "    sentiment_results = []\n",
        "    for chunk in chunks:\n",
        "        # Get the sentiment analysis result for the chunk\n",
        "        result = sentiment_pipeline(chunk)\n",
        "        sentiment_results.extend(result)\n",
        "\n",
        "    return sentiment_results"
      ],
      "metadata": {
        "id": "I_DrKDT1dmBZ"
      },
      "execution_count": 49,
      "outputs": []
    },
    {
      "cell_type": "code",
      "source": [
        "large_text = '''India, officially the Republic of India (ISO: Bhārat Gaṇarājya),[25] is a country in South Asia. It is the seventh-largest country by area; the most populous country as of June 2023;[26][27] and from the time of its independence in 1947, the world's most populous democracy.[28][29][30] Bounded by the Indian Ocean on the south, the Arabian Sea on the southwest, and the Bay of Bengal on the southeast, it shares land borders with Pakistan to the west;[j] China, Nepal, and Bhutan to the north; and Bangladesh and Myanmar to the east. In the Indian Ocean, India is in the vicinity of Sri Lanka and the Maldives; its Andaman and Nicobar Islands share a maritime border with Thailand, Myanmar, and Indonesia.\n",
        "\n",
        "Modern humans arrived on the Indian subcontinent from Africa no later than 55,000 years ago.[31][32][33] Their long occupation, initially in varying forms of isolation as hunter-gatherers, has made the region highly diverse, second only to Africa in human genetic diversity.[34] Settled life emerged on the subcontinent in the western margins of the Indus river basin 9,000 years ago, evolving gradually into the Indus Valley Civilisation of the third millennium BCE.[35] By 1200 BCE, an archaic form of Sanskrit, an Indo-European language, had diffused into India from the northwest.[36][37] Its evidence today is found in the hymns of the Rigveda. Preserved by an oral tradition that was resolutely vigilant, the Rigveda records the dawning of Hinduism in India.[38] The Dravidian languages of India were supplanted in the northern and western regions.[39] By 400 BCE, stratification and exclusion by caste had emerged within Hinduism,[40] and Buddhism and Jainism had arisen, proclaiming social orders unlinked to heredity.[41] Early political consolidations gave rise to the loose-knit Maurya and Gupta Empires based in the Ganges Basin.[42] Their collective era was suffused with wide-ranging creativity,[43] but also marked by the declining status of women,[44] and the incorporation of untouchability into an organised system of belief.[k][45] In South India, the Middle kingdoms exported Dravidian-languages scripts and religious cultures to the kingdoms of Southeast Asia.[46]\n",
        "\n",
        "In the early medieval era, Christianity, Islam, Judaism, and Zoroastrianism became established on India's southern and western coasts.[47] Muslim armies from Central Asia intermittently overran India's northern plains,[48] eventually founding the Delhi Sultanate, and drawing northern India into the cosmopolitan networks of medieval Islam.[49] In the 15th century, the Vijayanagara Empire created a long-lasting composite Hindu culture in south India.[50] In the Punjab, Sikhism emerged, rejecting institutionalised religion.[51] The Mughal Empire, in 1526, ushered in two centuries of relative peace,[52] leaving a legacy of luminous architecture.[l][53] Gradually expanding rule of the British East India Company followed, turning India into a colonial economy, but also consolidating its sovereignty.[54] British Crown rule began in 1858. The rights promised to Indians were granted slowly,[55][56] but technological changes were introduced, and modern ideas of education and the public life took root.[57] A pioneering and influential nationalist movement emerged, which was noted for nonviolent resistance and became the major factor in ending British rule.[58][59] In 1947 the British Indian Empire was partitioned into two independent dominions,[60][61][62][63] a Hindu-majority Dominion of India and a Muslim-majority Dominion of Pakistan, amid large-scale loss of life and an unprecedented migration.[64]\n",
        "\n",
        "India has been a federal republic since 1950, governed through a democratic parliamentary system. It is a pluralistic, multilingual and multi-ethnic society. India's population grew from 361 million in 1951 to almost 1.4 billion in 2022.[65] During the same time, its nominal per capita income increased from US$64 annually to US$2,601, and its literacy rate from 16.6% to 74%. From being a comparatively destitute country in 1951,[66] India has become a fast-growing major economy and a hub for information technology services, with an expanding middle class.[67] It has a space programme. Indian movies, music, and spiritual teachings play an increasing role in global culture.[68] India has substantially reduced its rate of poverty, though at the cost of increasing economic inequality.[69] India is a nuclear-weapon state, which ranks high in military expenditure. It has disputes over Kashmir with its neighbours, Pakistan and China, unresolved since the mid-20th century.[70] Among the socio-economic challenges India faces are gender inequality, child malnutrition,[71] and rising levels of air pollution.[72] India's land is megadiverse, with four biodiversity hotspots.[73] Its forest cover comprises 21.7% of its area.[74] India's wildlife, which has traditionally been viewed with tolerance in India's culture,[75] is supported among these forests, and elsewhere, in protected habitats.\n",
        "\n",
        "Etymology\n",
        "According to the Oxford English Dictionary (third edition 2009), the name \"India\" is derived from the Classical Latin India, a reference to South Asia and an uncertain region to its east. In turn the name \"India\" derived successively from Hellenistic Greek India ( Ἰνδία), ancient Greek Indos ( Ἰνδός), Old Persian Hindush (an eastern province of the Achaemenid Empire), and ultimately its cognate, the Sanskrit Sindhu, or \"river,\" specifically the Indus River and, by implication, its well-settled southern basin.[76][77] The ancient Greeks referred to the Indians as Indoi (Ἰνδοί), which translates as \"The people of the Indus\".[78]\n",
        "\n",
        "The term Bharat (Bhārat; pronounced [ˈbʱaːɾət] (listen)), mentioned in both Indian epic poetry and the Constitution of India,[79][80] is used in its variations by many Indian languages. A modern rendering of the historical name Bharatavarsha, which applied originally to North India,[81][82] Bharat gained increased currency from the mid-19th century as a native name for India.[79][83]\n",
        "\n",
        "Hindustan ([ɦɪndʊˈstaːn] (listen)) is a Middle Persian name for India that became popular by the 13th century,[84] and was used widely since the era of Mughal Empire. The meaning of Hindustan has varied, referring to a region encompassing present-day northern India and Pakistan or to India in its near entirety.[79][83][85]\n",
        "\n",
        "History\n",
        "Main articles: History of India and History of the Republic of India\n",
        "Ancient India\n",
        "\n",
        "Manuscript illustration, c. 1650, of the Sanskrit epic Ramayana, composed in story-telling fashion c. 400 BCE – c. 300 CE[86]\n",
        "By 55,000 years ago, the first modern humans, or Homo sapiens, had arrived on the Indian subcontinent from Africa, where they had earlier evolved.[31][32][33] The earliest known modern human remains in South Asia date to about 30,000 years ago.[31] After 6500 BCE, evidence for domestication of food crops and animals, construction of permanent structures, and storage of agricultural surplus appeared in Mehrgarh and other sites in Balochistan, Pakistan.[87] These gradually developed into the Indus Valley Civilisation,[88][87] the first urban culture in South Asia,[89] which flourished during 2500–1900 BCE in Pakistan and western India.[90] Centred around cities such as Mohenjo-daro, Harappa, Dholavira, and Kalibangan, and relying on varied forms of subsistence, the civilisation engaged robustly in crafts production and wide-ranging trade.[89]\n",
        "\n",
        "During the period 2000–500 BCE, many regions of the subcontinent transitioned from the Chalcolithic cultures to the Iron Age ones.[91] The Vedas, the oldest scriptures associated with Hinduism,[92] were composed during this period,[93] and historians have analysed these to posit a Vedic culture in the Punjab region and the upper Gangetic Plain.[91] Most historians also consider this period to have encompassed several waves of Indo-Aryan migration into the subcontinent from the north-west.[92] The caste system, which created a hierarchy of priests, warriors, and free peasants, but which excluded indigenous peoples by labelling their occupations impure, arose during this period.[94] On the Deccan Plateau, archaeological evidence from this period suggests the existence of a chiefdom stage of political organisation.[91] In South India, a progression to sedentary life is indicated by the large number of megalithic monuments dating from this period,[95] as well as by nearby traces of agriculture, irrigation tanks, and craft traditions.[95]\n",
        "\n",
        "\n",
        "Cave 26 of the rock-cut Ajanta Caves\n",
        "In the late Vedic period, around the 6th century BCE, the small states and chiefdoms of the Ganges Plain and the north-western regions had consolidated into 16 major oligarchies and monarchies that were known as the mahajanapadas.[96][97] The emerging urbanisation gave rise to non-Vedic religious movements, two of which became independent religions. Jainism came into prominence during the life of its exemplar, Mahavira.[98] Buddhism, based on the teachings of Gautama Buddha, attracted followers from all social classes excepting the middle class; chronicling the life of the Buddha was central to the beginnings of recorded history in India.[99][100][101] In an age of increasing urban wealth, both religions held up renunciation as an ideal,[102] and both established long-lasting monastic traditions. Politically, by the 3rd century BCE, the kingdom of Magadha had annexed or reduced other states to emerge as the Mauryan Empire.[103] The empire was once thought to have controlled most of the subcontinent except the far south, but its core regions are now thought to have been separated by large autonomous areas.[104][105] The Mauryan kings are known as much for their empire-building and determined management of public life as for Ashoka's renunciation of militarism and far-flung advocacy of the Buddhist dhamma.[106][107]\n",
        "\n",
        "The Sangam literature of the Tamil language reveals that, between 200 BCE and 200 CE, the southern peninsula was ruled by the Cheras, the Cholas, and the Pandyas, dynasties that traded extensively with the Roman Empire and with West and Southeast Asia.[108][109] In North India, Hinduism asserted patriarchal control within the family, leading to increased subordination of women.[110][103] By the 4th and 5th centuries, the Gupta Empire had created a complex system of administration and taxation in the greater Ganges Plain; this system became a model for later Indian kingdoms.[111][112] Under the Guptas, a renewed Hinduism based on devotion, rather than the management of ritual, began to assert itself.[113] This renewal was reflected in a flowering of sculpture and architecture, which found patrons among an urban elite.[112] Classical Sanskrit literature flowered as well, and Indian science, astronomy, medicine, and mathematics made significant advances.[112]\n",
        "\n",
        "Medieval India\n",
        "\n",
        "Brihadeshwara temple, Thanjavur, completed in 1010 CE\n",
        "\n",
        "The Qutub Minar, 73 m (240 ft) tall, completed by the Sultan of Delhi, Iltutmish\n",
        "The Indian early medieval age, from 600 to 1200 CE, is defined by regional kingdoms and cultural diversity.[114] When Harsha of Kannauj, who ruled much of the Indo-Gangetic Plain from 606 to 647 CE, attempted to expand southwards, he was defeated by the Chalukya ruler of the Deccan.[115] When his successor attempted to expand eastwards, he was defeated by the Pala king of Bengal.[115] When the Chalukyas attempted to expand southwards, they were defeated by the Pallavas from farther south, who in turn were opposed by the Pandyas and the Cholas from still farther south.[115] No ruler of this period was able to create an empire and consistently control lands much beyond their core region.[114] During this time, pastoral peoples, whose land had been cleared to make way for the growing agricultural economy, were accommodated within caste society, as were new non-traditional ruling classes.[116] The caste system consequently began to show regional differences.[116]\n",
        "\n",
        "In the 6th and 7th centuries, the first devotional hymns were created in the Tamil language.[117] They were imitated all over India and led to both the resurgence of Hinduism and the development of all modern languages of the subcontinent.[117] Indian royalty, big and small, and the temples they patronised drew citizens in great numbers to the capital cities, which became economic hubs as well.[118] Temple towns of various sizes began to appear everywhere as India underwent another urbanisation.[118] By the 8th and 9th centuries, the effects were felt in South-East Asia, as South Indian culture and political systems were exported to lands that became part of modern-day Myanmar, Thailand, Laos, Brunei, Cambodia, Vietnam, Philippines, Malaysia, and Indonesia.[119] Indian merchants, scholars, and sometimes armies were involved in this transmission; South-East Asians took the initiative as well, with many sojourning in Indian seminaries and translating Buddhist and Hindu texts into their languages.[119]\n",
        "\n",
        "After the 10th century, Muslim Central Asian nomadic clans, using swift-horse cavalry and raising vast armies united by ethnicity and religion, repeatedly overran South Asia's north-western plains, leading eventually to the establishment of the Islamic Delhi Sultanate in 1206.[120] The sultanate was to control much of North India and to make many forays into South India. Although at first disruptive for the Indian elites, the sultanate largely left its vast non-Muslim subject population to its own laws and customs.[121][122] By repeatedly repulsing Mongol raiders in the 13th century, the sultanate saved India from the devastation visited on West and Central Asia, setting the scene for centuries of migration of fleeing soldiers, learned men, mystics, traders, artists, and artisans from that region into the subcontinent, thereby creating a syncretic Indo-Islamic culture in the north.[123][124] The sultanate's raiding and weakening of the regional kingdoms of South India paved the way for the indigenous Vijayanagara Empire.[125] Embracing a strong Shaivite tradition and building upon the military technology of the sultanate, the empire came to control much of peninsular India,[126] and was to influence South Indian society for long afterwards.[125]\n",
        "\n",
        "Early modern India\n",
        "In the early 16th century, northern India, then under mainly Muslim rulers,[127] fell again to the superior mobility and firepower of a new generation of Central Asian warriors.[128] The resulting Mughal Empire did not stamp out the local societies it came to rule. Instead, it balanced and pacified them through new administrative practices[129][130] and diverse and inclusive ruling elites,[131] leading to more systematic, centralised, and uniform rule.[132] Eschewing tribal bonds and Islamic identity, especially under Akbar, the Mughals united their far-flung realms through loyalty, expressed through a Persianised culture, to an emperor who had near-divine status.[131] The Mughal state's economic policies, deriving most revenues from agriculture[133] and mandating that taxes be paid in the well-regulated silver currency,[134] caused peasants and artisans to enter larger markets.[132] The relative peace maintained by the empire during much of the 17th century was a factor in India's economic expansion,[132] resulting in greater patronage of painting, literary forms, textiles, and architecture.[135] Newly coherent social groups in northern and western India, such as the Marathas, the Rajputs, and the Sikhs, gained military and governing ambitions during Mughal rule, which, through collaboration or adversity, gave them both recognition and military experience.[136] Expanding commerce during Mughal rule gave rise to new Indian commercial and political elites along the coasts of southern and eastern India.[136] As the empire disintegrated, many among these elites were able to seek and control their own affairs.[137]\n",
        "\n",
        "\n",
        "A distant view of the Taj Mahal from the Agra Fort\n",
        "\n",
        "A two mohur Company gold coin, issued in 1835, the obverse inscribed \"William IV, King\"\n",
        "By the early 18th century, with the lines between commercial and political dominance being increasingly blurred, a number of European trading companies, including the English East India Company, had established coastal outposts.[138][139] The East India Company's control of the seas, greater resources, and more '''"
      ],
      "metadata": {
        "id": "D3ET_A8gfV8T"
      },
      "execution_count": 47,
      "outputs": []
    },
    {
      "cell_type": "code",
      "source": [
        "# Example usage:\n",
        "#large_text = \"This is a very large text with many paragraphs and content...\"\n",
        "sentiment_results = get_sentiment_large_text(pipe, large_text)\n",
        "for result in sentiment_results:\n",
        "    print(\"Sentiment:\", result['label'])\n",
        "    print(\"Sentiment Score:\", result['score'])\n",
        "    print()"
      ],
      "metadata": {
        "colab": {
          "base_uri": "https://localhost:8080/"
        },
        "id": "sYDUN307dyUz",
        "outputId": "bcbb595a-2fd6-4586-a7b6-71b84e6a7e69"
      },
      "execution_count": 48,
      "outputs": [
        {
          "output_type": "stream",
          "name": "stdout",
          "text": [
            "Sentiment: neutral\n",
            "Sentiment Score: 0.9267433881759644\n",
            "\n",
            "Sentiment: neutral\n",
            "Sentiment Score: 0.7841225266456604\n",
            "\n",
            "Sentiment: neutral\n",
            "Sentiment Score: 0.8874459862709045\n",
            "\n",
            "Sentiment: neutral\n",
            "Sentiment Score: 0.7315448522567749\n",
            "\n",
            "Sentiment: neutral\n",
            "Sentiment Score: 0.5879493355751038\n",
            "\n",
            "Sentiment: neutral\n",
            "Sentiment Score: 0.907404899597168\n",
            "\n",
            "Sentiment: neutral\n",
            "Sentiment Score: 0.9238050580024719\n",
            "\n",
            "Sentiment: neutral\n",
            "Sentiment Score: 0.8854498267173767\n",
            "\n",
            "Sentiment: neutral\n",
            "Sentiment Score: 0.9059827923774719\n",
            "\n",
            "Sentiment: neutral\n",
            "Sentiment Score: 0.9064417481422424\n",
            "\n",
            "Sentiment: neutral\n",
            "Sentiment Score: 0.8488609194755554\n",
            "\n",
            "Sentiment: neutral\n",
            "Sentiment Score: 0.6962608695030212\n",
            "\n",
            "Sentiment: neutral\n",
            "Sentiment Score: 0.8577566742897034\n",
            "\n",
            "Sentiment: neutral\n",
            "Sentiment Score: 0.7997663021087646\n",
            "\n",
            "Sentiment: neutral\n",
            "Sentiment Score: 0.7870779037475586\n",
            "\n",
            "Sentiment: neutral\n",
            "Sentiment Score: 0.797888457775116\n",
            "\n",
            "Sentiment: neutral\n",
            "Sentiment Score: 0.5774551630020142\n",
            "\n"
          ]
        }
      ]
    },
    {
      "cell_type": "code",
      "source": [],
      "metadata": {
        "id": "-hnsxF5UePps"
      },
      "execution_count": null,
      "outputs": []
    }
  ]
}